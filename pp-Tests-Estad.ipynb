{
 "cells": [
  {
   "attachments": {},
   "cell_type": "markdown",
   "metadata": {},
   "source": [
    "# Pair Programming Test Estadísticos"
   ]
  },
  {
   "cell_type": "code",
   "execution_count": 1,
   "metadata": {},
   "outputs": [],
   "source": [
    "import numpy as np\n",
    "import pandas as pd\n",
    "import matplotlib.pyplot as plt\n",
    "import seaborn as sns\n",
    "import statsmodels.api as sm\n",
    "from scipy.stats import skew\n",
    "from scipy.stats import kurtosistest\n",
    "from scipy import stats"
   ]
  },
  {
   "attachments": {},
   "cell_type": "markdown",
   "metadata": {},
   "source": [
    "En este ejercicio de pair programming seguiréis usando el dataset que seleccionasteis ayer.\n",
    "\n",
    "Happy coding💪🏽"
   ]
  },
  {
   "cell_type": "code",
   "execution_count": 2,
   "metadata": {},
   "outputs": [
    {
     "data": {
      "text/html": [
       "<div>\n",
       "<style scoped>\n",
       "    .dataframe tbody tr th:only-of-type {\n",
       "        vertical-align: middle;\n",
       "    }\n",
       "\n",
       "    .dataframe tbody tr th {\n",
       "        vertical-align: top;\n",
       "    }\n",
       "\n",
       "    .dataframe thead th {\n",
       "        text-align: right;\n",
       "    }\n",
       "</style>\n",
       "<table border=\"1\" class=\"dataframe\">\n",
       "  <thead>\n",
       "    <tr style=\"text-align: right;\">\n",
       "      <th></th>\n",
       "      <th>Area Code</th>\n",
       "      <th>State</th>\n",
       "      <th>Market</th>\n",
       "      <th>Market Size</th>\n",
       "      <th>Profit</th>\n",
       "      <th>Margin</th>\n",
       "      <th>Sales</th>\n",
       "      <th>COGS</th>\n",
       "      <th>Total Expenses</th>\n",
       "      <th>Marketing</th>\n",
       "      <th>Inventory</th>\n",
       "      <th>Budget Profit</th>\n",
       "      <th>Budget COGS</th>\n",
       "      <th>Budget Margin</th>\n",
       "      <th>Budget Sales</th>\n",
       "      <th>ProductId</th>\n",
       "      <th>Date</th>\n",
       "      <th>Product Type</th>\n",
       "      <th>Product</th>\n",
       "      <th>Type</th>\n",
       "    </tr>\n",
       "  </thead>\n",
       "  <tbody>\n",
       "    <tr>\n",
       "      <th>3480</th>\n",
       "      <td>801</td>\n",
       "      <td>Utah</td>\n",
       "      <td>West</td>\n",
       "      <td>Small Market</td>\n",
       "      <td>14.0</td>\n",
       "      <td>47.0</td>\n",
       "      <td>92.0</td>\n",
       "      <td>35.0</td>\n",
       "      <td>40.0</td>\n",
       "      <td>11.0</td>\n",
       "      <td>196.0</td>\n",
       "      <td>10.0</td>\n",
       "      <td>20.0</td>\n",
       "      <td>30.0</td>\n",
       "      <td>50.0</td>\n",
       "      <td>12</td>\n",
       "      <td>01/01/11 00:00:00</td>\n",
       "      <td>Tea</td>\n",
       "      <td>Earl Grey</td>\n",
       "      <td>Regular</td>\n",
       "    </tr>\n",
       "    <tr>\n",
       "      <th>2103</th>\n",
       "      <td>573</td>\n",
       "      <td>Missouri</td>\n",
       "      <td>Central</td>\n",
       "      <td>Small Market</td>\n",
       "      <td>62.0</td>\n",
       "      <td>107.0</td>\n",
       "      <td>206.0</td>\n",
       "      <td>86.0</td>\n",
       "      <td>65.0</td>\n",
       "      <td>32.0</td>\n",
       "      <td>484.0</td>\n",
       "      <td>50.0</td>\n",
       "      <td>90.0</td>\n",
       "      <td>110.0</td>\n",
       "      <td>200.0</td>\n",
       "      <td>2</td>\n",
       "      <td>02/01/11 00:00:00</td>\n",
       "      <td>Coffee</td>\n",
       "      <td>Columbian</td>\n",
       "      <td>Regular</td>\n",
       "    </tr>\n",
       "    <tr>\n",
       "      <th>2040</th>\n",
       "      <td>563</td>\n",
       "      <td>Iowa</td>\n",
       "      <td>Central</td>\n",
       "      <td>Small Market</td>\n",
       "      <td>17.0</td>\n",
       "      <td>27.0</td>\n",
       "      <td>50.0</td>\n",
       "      <td>18.0</td>\n",
       "      <td>17.0</td>\n",
       "      <td>5.0</td>\n",
       "      <td>821.0</td>\n",
       "      <td>20.0</td>\n",
       "      <td>10.0</td>\n",
       "      <td>30.0</td>\n",
       "      <td>40.0</td>\n",
       "      <td>1</td>\n",
       "      <td>01/01/11 00:00:00</td>\n",
       "      <td>Coffee</td>\n",
       "      <td>Amaretto</td>\n",
       "      <td>Regular</td>\n",
       "    </tr>\n",
       "    <tr>\n",
       "      <th>1533</th>\n",
       "      <td>504</td>\n",
       "      <td>Louisiana</td>\n",
       "      <td>South</td>\n",
       "      <td>Small Market</td>\n",
       "      <td>46.0</td>\n",
       "      <td>68.0</td>\n",
       "      <td>121.0</td>\n",
       "      <td>46.0</td>\n",
       "      <td>37.0</td>\n",
       "      <td>14.0</td>\n",
       "      <td>388.0</td>\n",
       "      <td>40.0</td>\n",
       "      <td>30.0</td>\n",
       "      <td>60.0</td>\n",
       "      <td>90.0</td>\n",
       "      <td>6</td>\n",
       "      <td>04/01/11 00:00:00</td>\n",
       "      <td>Espresso</td>\n",
       "      <td>Decaf Espresso</td>\n",
       "      <td>Decaf</td>\n",
       "    </tr>\n",
       "    <tr>\n",
       "      <th>1052</th>\n",
       "      <td>417</td>\n",
       "      <td>Missouri</td>\n",
       "      <td>Central</td>\n",
       "      <td>Small Market</td>\n",
       "      <td>-9.0</td>\n",
       "      <td>63.0</td>\n",
       "      <td>114.0</td>\n",
       "      <td>44.0</td>\n",
       "      <td>69.0</td>\n",
       "      <td>40.0</td>\n",
       "      <td>261.0</td>\n",
       "      <td>10.0</td>\n",
       "      <td>30.0</td>\n",
       "      <td>60.0</td>\n",
       "      <td>90.0</td>\n",
       "      <td>8</td>\n",
       "      <td>04/01/11 00:00:00</td>\n",
       "      <td>Herbal Tea</td>\n",
       "      <td>Chamomile</td>\n",
       "      <td>Decaf</td>\n",
       "    </tr>\n",
       "    <tr>\n",
       "      <th>2979</th>\n",
       "      <td>716</td>\n",
       "      <td>New York</td>\n",
       "      <td>East</td>\n",
       "      <td>Major Market</td>\n",
       "      <td>146.0</td>\n",
       "      <td>130.0</td>\n",
       "      <td>245.0</td>\n",
       "      <td>89.0</td>\n",
       "      <td>38.0</td>\n",
       "      <td>24.0</td>\n",
       "      <td>777.0</td>\n",
       "      <td>110.0</td>\n",
       "      <td>90.0</td>\n",
       "      <td>140.0</td>\n",
       "      <td>230.0</td>\n",
       "      <td>12</td>\n",
       "      <td>01/01/11 00:00:00</td>\n",
       "      <td>Tea</td>\n",
       "      <td>Earl Grey</td>\n",
       "      <td>Regular</td>\n",
       "    </tr>\n",
       "    <tr>\n",
       "      <th>1787</th>\n",
       "      <td>513</td>\n",
       "      <td>Ohio</td>\n",
       "      <td>Central</td>\n",
       "      <td>Major Market</td>\n",
       "      <td>24.0</td>\n",
       "      <td>61.0</td>\n",
       "      <td>103.0</td>\n",
       "      <td>42.0</td>\n",
       "      <td>37.0</td>\n",
       "      <td>13.0</td>\n",
       "      <td>384.0</td>\n",
       "      <td>30.0</td>\n",
       "      <td>40.0</td>\n",
       "      <td>60.0</td>\n",
       "      <td>100.0</td>\n",
       "      <td>2</td>\n",
       "      <td>05/01/10 00:00:00</td>\n",
       "      <td>Coffee</td>\n",
       "      <td>Columbian</td>\n",
       "      <td>Regular</td>\n",
       "    </tr>\n",
       "  </tbody>\n",
       "</table>\n",
       "</div>"
      ],
      "text/plain": [
       "      Area Code      State   Market   Market Size  Profit  Margin  Sales  \\\n",
       "3480        801       Utah     West  Small Market    14.0    47.0   92.0   \n",
       "2103        573   Missouri  Central  Small Market    62.0   107.0  206.0   \n",
       "2040        563       Iowa  Central  Small Market    17.0    27.0   50.0   \n",
       "1533        504  Louisiana    South  Small Market    46.0    68.0  121.0   \n",
       "1052        417   Missouri  Central  Small Market    -9.0    63.0  114.0   \n",
       "2979        716   New York     East  Major Market   146.0   130.0  245.0   \n",
       "1787        513       Ohio  Central  Major Market    24.0    61.0  103.0   \n",
       "\n",
       "      COGS  Total Expenses  Marketing  Inventory  Budget Profit  Budget COGS  \\\n",
       "3480  35.0            40.0       11.0      196.0           10.0         20.0   \n",
       "2103  86.0            65.0       32.0      484.0           50.0         90.0   \n",
       "2040  18.0            17.0        5.0      821.0           20.0         10.0   \n",
       "1533  46.0            37.0       14.0      388.0           40.0         30.0   \n",
       "1052  44.0            69.0       40.0      261.0           10.0         30.0   \n",
       "2979  89.0            38.0       24.0      777.0          110.0         90.0   \n",
       "1787  42.0            37.0       13.0      384.0           30.0         40.0   \n",
       "\n",
       "      Budget Margin  Budget Sales  ProductId               Date Product Type  \\\n",
       "3480           30.0          50.0         12  01/01/11 00:00:00          Tea   \n",
       "2103          110.0         200.0          2  02/01/11 00:00:00       Coffee   \n",
       "2040           30.0          40.0          1  01/01/11 00:00:00       Coffee   \n",
       "1533           60.0          90.0          6  04/01/11 00:00:00     Espresso   \n",
       "1052           60.0          90.0          8  04/01/11 00:00:00   Herbal Tea   \n",
       "2979          140.0         230.0         12  01/01/11 00:00:00          Tea   \n",
       "1787           60.0         100.0          2  05/01/10 00:00:00       Coffee   \n",
       "\n",
       "             Product     Type  \n",
       "3480       Earl Grey  Regular  \n",
       "2103       Columbian  Regular  \n",
       "2040        Amaretto  Regular  \n",
       "1533  Decaf Espresso    Decaf  \n",
       "1052       Chamomile    Decaf  \n",
       "2979       Earl Grey  Regular  \n",
       "1787       Columbian  Regular  "
      ]
     },
     "execution_count": 2,
     "metadata": {},
     "output_type": "execute_result"
    }
   ],
   "source": [
    "sales = pd.read_csv(\"../DA-PromoC-Modulo3-Sprint1-Lola-Noemi/ficheros/sales2.csv\", index_col=0)\n",
    "sales.sample(7)"
   ]
  },
  {
   "attachments": {},
   "cell_type": "markdown",
   "metadata": {},
   "source": [
    "\n",
    "### ¿Qué diferencia existe el error de tipo I y el error de tipo II?"
   ]
  },
  {
   "attachments": {},
   "cell_type": "markdown",
   "metadata": {},
   "source": [
    "- H0: No aumenta el beneficio con el marketing ni las ventas.\n",
    "- H1: El beneficio aumenta con el marketing y las ventas.\n",
    "\n",
    "\n",
    "Error de Tipo I: Decimos que no aumenta, cuando sí aumenta.\n",
    "\n",
    "Error de Tipo II: Decimos que aumenta, cuando realmente no aumenta.\n",
    "\n",
    "El error de Tipo II es el que no nos interesa cometer, dado que nuestra empresa sufriría pérdidas."
   ]
  },
  {
   "attachments": {},
   "cell_type": "markdown",
   "metadata": {},
   "source": [
    "### ¿Qué es la asimetría?"
   ]
  },
  {
   "attachments": {},
   "cell_type": "markdown",
   "metadata": {},
   "source": [
    "- La asimetría se produce cuando la distribución de los datos se aleja de la media. Puede ser positiva o negativa. "
   ]
  },
  {
   "attachments": {},
   "cell_type": "markdown",
   "metadata": {},
   "source": [
    "### ¿Es vuestra variable respuesta asimétrica?"
   ]
  },
  {
   "cell_type": "code",
   "execution_count": 7,
   "metadata": {},
   "outputs": [
    {
     "data": {
      "text/plain": [
       "1.055870460824596"
      ]
     },
     "execution_count": 7,
     "metadata": {},
     "output_type": "execute_result"
    }
   ],
   "source": [
    "sales[\"Profit\"].skew()"
   ]
  },
  {
   "attachments": {},
   "cell_type": "markdown",
   "metadata": {},
   "source": [
    "- En este caso, vemos que nuestra variable respuesta tiene una distribución asimétrica positiva, es decir, mayor que 0 y, por lo tanto, los datos no son normales. Su media es mayor que la mediana y la moda."
   ]
  },
  {
   "cell_type": "code",
   "execution_count": 4,
   "metadata": {},
   "outputs": [
    {
     "data": {
      "text/plain": [
       "1.2847684509485233"
      ]
     },
     "execution_count": 4,
     "metadata": {},
     "output_type": "execute_result"
    }
   ],
   "source": [
    "sales[\"Marketing\"].skew()"
   ]
  },
  {
   "cell_type": "code",
   "execution_count": 8,
   "metadata": {},
   "outputs": [
    {
     "data": {
      "text/plain": [
       "0.9789707228614547"
      ]
     },
     "execution_count": 8,
     "metadata": {},
     "output_type": "execute_result"
    }
   ],
   "source": [
    "sales[\"Sales\"].skew()"
   ]
  },
  {
   "attachments": {},
   "cell_type": "markdown",
   "metadata": {},
   "source": [
    "- En este caso, vemos que nuestras variables predictoras tienen una distribución asimétrica positiva y, por lo tanto, los datos no son normales. "
   ]
  },
  {
   "attachments": {},
   "cell_type": "markdown",
   "metadata": {},
   "source": [
    "### ¿Qué tipo de curtosis presenta vuestra variable respuesta?"
   ]
  },
  {
   "cell_type": "code",
   "execution_count": 9,
   "metadata": {},
   "outputs": [
    {
     "data": {
      "text/plain": [
       "KurtosistestResult(statistic=8.589216828780973, pvalue=8.756413236225312e-18)"
      ]
     },
     "execution_count": 9,
     "metadata": {},
     "output_type": "execute_result"
    }
   ],
   "source": [
    "kurtosistest(sales[\"Profit\"])"
   ]
  },
  {
   "attachments": {},
   "cell_type": "markdown",
   "metadata": {},
   "source": [
    "- Vemos que nuestro p-valor es menor que 0.05, lo que nos indica este test es que los datos no son normales y podemos rechazar la H0."
   ]
  },
  {
   "attachments": {},
   "cell_type": "markdown",
   "metadata": {},
   "source": [
    "### ¿Es vuestra variable respuesta normal? Demostrarlo visual y analíticamente."
   ]
  },
  {
   "cell_type": "code",
   "execution_count": 10,
   "metadata": {},
   "outputs": [
    {
     "data": {
      "text/plain": [
       "ShapiroResult(statistic=0.9109621644020081, pvalue=1.8216880036222622e-44)"
      ]
     },
     "execution_count": 10,
     "metadata": {},
     "output_type": "execute_result"
    }
   ],
   "source": [
    "# probamos el test Shapiro para ver si nuestra variable respuesta es normal\n",
    "\n",
    "stats.shapiro(sales[\"Profit\"])"
   ]
  },
  {
   "cell_type": "code",
   "execution_count": 11,
   "metadata": {},
   "outputs": [
    {
     "data": {
      "image/png": "[encoded data removed]",
      "text/plain": [
       "<Figure size 500x500 with 1 Axes>"
      ]
     },
     "metadata": {},
     "output_type": "display_data"
    }
   ],
   "source": [
    "sns.displot(sales[\"Profit\"], kde = True, color = \"blue\");"
   ]
  },
  {
   "attachments": {},
   "cell_type": "markdown",
   "metadata": {},
   "source": [
    "- Como observamos con el test Shapiro y el displot, nuestra variable respuesta no tiene una distribución normal y es asimétrica, ya que su forma se aleja a la forma de una campana de Gauss."
   ]
  },
  {
   "cell_type": "code",
   "execution_count": 12,
   "metadata": {},
   "outputs": [
    {
     "data": {
      "image/png": "[encoded data removed]",
      "text/plain": [
       "<Figure size 640x480 with 1 Axes>"
      ]
     },
     "metadata": {},
     "output_type": "display_data"
    }
   ],
   "source": [
    "sm.qqplot(sales[\"Profit\"], line ='45');"
   ]
  },
  {
   "attachments": {},
   "cell_type": "markdown",
   "metadata": {},
   "source": [
    "- Como observamos en el qqplot, nuestra variable no está nada ajustada a la línea roja, lo cual nos indica una distribución no normal."
   ]
  }
 ],
 "metadata": {
  "kernelspec": {
   "display_name": "Python 3",
   "language": "python",
   "name": "python3"
  },
  "language_info": {
   "codemirror_mode": {
    "name": "ipython",
    "version": 3
   },
   "file_extension": ".py",
   "mimetype": "text/x-python",
   "name": "python",
   "nbconvert_exporter": "python",
   "pygments_lexer": "ipython3",
   "version": "3.10.9"
  },
  "orig_nbformat": 4,
  "vscode": {
   "interpreter": {
    "hash": "74ce4e106c5f3fb5408a2b59926dbdd162e96cafe5f5c54fb66c999b373c7a81"
   }
  }
 },
 "nbformat": 4,
 "nbformat_minor": 2
}
