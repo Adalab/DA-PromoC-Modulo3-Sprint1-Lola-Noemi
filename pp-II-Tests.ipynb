{
 "cells": [
  {
   "attachments": {},
   "cell_type": "markdown",
   "metadata": {},
   "source": [
    "# Pair Programming Test Estadísticos"
   ]
  },
  {
   "cell_type": "code",
   "execution_count": 1,
   "metadata": {},
   "outputs": [],
   "source": [
    "import numpy as np\n",
    "import pandas as pd\n",
    "import matplotlib.pyplot as plt\n",
    "import seaborn as sns\n",
    "import statsmodels.api as sm\n",
    "from scipy.stats import skew\n",
    "from scipy.stats import kurtosistest\n",
    "from scipy import stats\n",
    "import warnings \n",
    "warnings.filterwarnings('ignore')\n",
    "plt.rcParams[\"figure.figsize\"] = (10,8) "
   ]
  },
  {
   "attachments": {},
   "cell_type": "markdown",
   "metadata": {},
   "source": [
    "En este ejercicio de pair programming seguiréis usando el dataset que seleccionasteis ayer.\n",
    "\n",
    "Happy coding💪🏽"
   ]
  },
  {
   "cell_type": "code",
   "execution_count": 2,
   "metadata": {},
   "outputs": [
    {
     "data": {
      "text/html": [
       "<div>\n",
       "<style scoped>\n",
       "    .dataframe tbody tr th:only-of-type {\n",
       "        vertical-align: middle;\n",
       "    }\n",
       "\n",
       "    .dataframe tbody tr th {\n",
       "        vertical-align: top;\n",
       "    }\n",
       "\n",
       "    .dataframe thead th {\n",
       "        text-align: right;\n",
       "    }\n",
       "</style>\n",
       "<table border=\"1\" class=\"dataframe\">\n",
       "  <thead>\n",
       "    <tr style=\"text-align: right;\">\n",
       "      <th></th>\n",
       "      <th>area_code</th>\n",
       "      <th>state</th>\n",
       "      <th>market</th>\n",
       "      <th>market_size</th>\n",
       "      <th>profit</th>\n",
       "      <th>margin</th>\n",
       "      <th>sales</th>\n",
       "      <th>cogs</th>\n",
       "      <th>total_expenses</th>\n",
       "      <th>marketing</th>\n",
       "      <th>inventory</th>\n",
       "      <th>budget_profit</th>\n",
       "      <th>budget_cogs</th>\n",
       "      <th>budget_margin</th>\n",
       "      <th>budget_sales</th>\n",
       "      <th>productid</th>\n",
       "      <th>date</th>\n",
       "      <th>product_type</th>\n",
       "      <th>product</th>\n",
       "      <th>type</th>\n",
       "    </tr>\n",
       "  </thead>\n",
       "  <tbody>\n",
       "    <tr>\n",
       "      <th>2945</th>\n",
       "      <td>715</td>\n",
       "      <td>Wisconsin</td>\n",
       "      <td>Central</td>\n",
       "      <td>Small Market</td>\n",
       "      <td>98.0</td>\n",
       "      <td>109.0</td>\n",
       "      <td>185.0</td>\n",
       "      <td>65.0</td>\n",
       "      <td>43.0</td>\n",
       "      <td>20.0</td>\n",
       "      <td>372.0</td>\n",
       "      <td>80.0</td>\n",
       "      <td>50.0</td>\n",
       "      <td>100.0</td>\n",
       "      <td>150.0</td>\n",
       "      <td>8</td>\n",
       "      <td>2011-02-01</td>\n",
       "      <td>Herbal Tea</td>\n",
       "      <td>Chamomile</td>\n",
       "      <td>Decaf</td>\n",
       "    </tr>\n",
       "    <tr>\n",
       "      <th>936</th>\n",
       "      <td>405</td>\n",
       "      <td>Oklahoma</td>\n",
       "      <td>South</td>\n",
       "      <td>Small Market</td>\n",
       "      <td>17.0</td>\n",
       "      <td>132.0</td>\n",
       "      <td>227.0</td>\n",
       "      <td>95.0</td>\n",
       "      <td>46.0</td>\n",
       "      <td>22.0</td>\n",
       "      <td>532.0</td>\n",
       "      <td>30.0</td>\n",
       "      <td>90.0</td>\n",
       "      <td>130.0</td>\n",
       "      <td>220.0</td>\n",
       "      <td>9</td>\n",
       "      <td>2010-03-01</td>\n",
       "      <td>Herbal Tea</td>\n",
       "      <td>Lemon</td>\n",
       "      <td>Decaf</td>\n",
       "    </tr>\n",
       "    <tr>\n",
       "      <th>3942</th>\n",
       "      <td>941</td>\n",
       "      <td>Florida</td>\n",
       "      <td>East</td>\n",
       "      <td>Major Market</td>\n",
       "      <td>35.0</td>\n",
       "      <td>62.0</td>\n",
       "      <td>110.0</td>\n",
       "      <td>48.0</td>\n",
       "      <td>27.0</td>\n",
       "      <td>15.0</td>\n",
       "      <td>593.0</td>\n",
       "      <td>30.0</td>\n",
       "      <td>30.0</td>\n",
       "      <td>50.0</td>\n",
       "      <td>80.0</td>\n",
       "      <td>8</td>\n",
       "      <td>2010-06-01</td>\n",
       "      <td>Herbal Tea</td>\n",
       "      <td>Chamomile</td>\n",
       "      <td>Decaf</td>\n",
       "    </tr>\n",
       "    <tr>\n",
       "      <th>201</th>\n",
       "      <td>217</td>\n",
       "      <td>Illinois</td>\n",
       "      <td>Central</td>\n",
       "      <td>Major Market</td>\n",
       "      <td>156.0</td>\n",
       "      <td>76.0</td>\n",
       "      <td>138.0</td>\n",
       "      <td>60.0</td>\n",
       "      <td>109.0</td>\n",
       "      <td>63.0</td>\n",
       "      <td>865.0</td>\n",
       "      <td>170.0</td>\n",
       "      <td>50.0</td>\n",
       "      <td>70.0</td>\n",
       "      <td>130.0</td>\n",
       "      <td>2</td>\n",
       "      <td>2010-04-01</td>\n",
       "      <td>Coffee</td>\n",
       "      <td>Columbian</td>\n",
       "      <td>Regular</td>\n",
       "    </tr>\n",
       "    <tr>\n",
       "      <th>4097</th>\n",
       "      <td>970</td>\n",
       "      <td>Colorado</td>\n",
       "      <td>Central</td>\n",
       "      <td>Major Market</td>\n",
       "      <td>15.0</td>\n",
       "      <td>64.0</td>\n",
       "      <td>114.0</td>\n",
       "      <td>51.0</td>\n",
       "      <td>49.0</td>\n",
       "      <td>19.0</td>\n",
       "      <td>396.0</td>\n",
       "      <td>20.0</td>\n",
       "      <td>40.0</td>\n",
       "      <td>60.0</td>\n",
       "      <td>100.0</td>\n",
       "      <td>11</td>\n",
       "      <td>2011-06-01</td>\n",
       "      <td>Tea</td>\n",
       "      <td>Darjeeling</td>\n",
       "      <td>Regular</td>\n",
       "    </tr>\n",
       "    <tr>\n",
       "      <th>633</th>\n",
       "      <td>315</td>\n",
       "      <td>New York</td>\n",
       "      <td>East</td>\n",
       "      <td>Major Market</td>\n",
       "      <td>127.0</td>\n",
       "      <td>172.0</td>\n",
       "      <td>290.0</td>\n",
       "      <td>118.0</td>\n",
       "      <td>45.0</td>\n",
       "      <td>33.0</td>\n",
       "      <td>930.0</td>\n",
       "      <td>130.0</td>\n",
       "      <td>120.0</td>\n",
       "      <td>170.0</td>\n",
       "      <td>290.0</td>\n",
       "      <td>12</td>\n",
       "      <td>2010-11-01</td>\n",
       "      <td>Tea</td>\n",
       "      <td>Earl Grey</td>\n",
       "      <td>Regular</td>\n",
       "    </tr>\n",
       "    <tr>\n",
       "      <th>2019</th>\n",
       "      <td>561</td>\n",
       "      <td>Florida</td>\n",
       "      <td>East</td>\n",
       "      <td>Major Market</td>\n",
       "      <td>52.0</td>\n",
       "      <td>56.0</td>\n",
       "      <td>100.0</td>\n",
       "      <td>38.0</td>\n",
       "      <td>21.0</td>\n",
       "      <td>10.0</td>\n",
       "      <td>871.0</td>\n",
       "      <td>50.0</td>\n",
       "      <td>40.0</td>\n",
       "      <td>60.0</td>\n",
       "      <td>100.0</td>\n",
       "      <td>11</td>\n",
       "      <td>2011-10-01</td>\n",
       "      <td>Tea</td>\n",
       "      <td>Darjeeling</td>\n",
       "      <td>Regular</td>\n",
       "    </tr>\n",
       "  </tbody>\n",
       "</table>\n",
       "</div>"
      ],
      "text/plain": [
       "      area_code      state   market   market_size  profit  margin  sales  \\\n",
       "2945        715  Wisconsin  Central  Small Market    98.0   109.0  185.0   \n",
       "936         405   Oklahoma    South  Small Market    17.0   132.0  227.0   \n",
       "3942        941    Florida     East  Major Market    35.0    62.0  110.0   \n",
       "201         217   Illinois  Central  Major Market   156.0    76.0  138.0   \n",
       "4097        970   Colorado  Central  Major Market    15.0    64.0  114.0   \n",
       "633         315   New York     East  Major Market   127.0   172.0  290.0   \n",
       "2019        561    Florida     East  Major Market    52.0    56.0  100.0   \n",
       "\n",
       "       cogs  total_expenses  marketing  inventory  budget_profit  budget_cogs  \\\n",
       "2945   65.0            43.0       20.0      372.0           80.0         50.0   \n",
       "936    95.0            46.0       22.0      532.0           30.0         90.0   \n",
       "3942   48.0            27.0       15.0      593.0           30.0         30.0   \n",
       "201    60.0           109.0       63.0      865.0          170.0         50.0   \n",
       "4097   51.0            49.0       19.0      396.0           20.0         40.0   \n",
       "633   118.0            45.0       33.0      930.0          130.0        120.0   \n",
       "2019   38.0            21.0       10.0      871.0           50.0         40.0   \n",
       "\n",
       "      budget_margin  budget_sales  productid        date product_type  \\\n",
       "2945          100.0         150.0          8  2011-02-01   Herbal Tea   \n",
       "936           130.0         220.0          9  2010-03-01   Herbal Tea   \n",
       "3942           50.0          80.0          8  2010-06-01   Herbal Tea   \n",
       "201            70.0         130.0          2  2010-04-01       Coffee   \n",
       "4097           60.0         100.0         11  2011-06-01          Tea   \n",
       "633           170.0         290.0         12  2010-11-01          Tea   \n",
       "2019           60.0         100.0         11  2011-10-01          Tea   \n",
       "\n",
       "         product     type  \n",
       "2945   Chamomile    Decaf  \n",
       "936        Lemon    Decaf  \n",
       "3942   Chamomile    Decaf  \n",
       "201    Columbian  Regular  \n",
       "4097  Darjeeling  Regular  \n",
       "633    Earl Grey  Regular  \n",
       "2019  Darjeeling  Regular  "
      ]
     },
     "execution_count": 2,
     "metadata": {},
     "output_type": "execute_result"
    }
   ],
   "source": [
    "sales = pd.read_csv(\"../DA-PromoC-Modulo3-Sprint1-Lola-Noemi/ficheros/sales2.csv\", index_col=0)\n",
    "sales.sample(7)"
   ]
  },
  {
   "attachments": {},
   "cell_type": "markdown",
   "metadata": {},
   "source": [
    "\n",
    "### ¿Qué diferencia existe el error de tipo I y el error de tipo II?"
   ]
  },
  {
   "attachments": {},
   "cell_type": "markdown",
   "metadata": {},
   "source": [
    "- H0: No aumenta el beneficio con el marketing ni las ventas.\n",
    "- H1: El beneficio aumenta con el marketing y las ventas.\n",
    "\n",
    "\n",
    "Error de Tipo I: Decimos que no aumenta, cuando sí aumenta.\n",
    "\n",
    "Error de Tipo II: Decimos que aumenta, cuando realmente no aumenta.\n",
    "\n",
    "El error de Tipo II es el que no nos interesa cometer, dado que nuestra empresa sufriría pérdidas."
   ]
  },
  {
   "attachments": {},
   "cell_type": "markdown",
   "metadata": {},
   "source": [
    "### ¿Qué es la asimetría?"
   ]
  },
  {
   "attachments": {},
   "cell_type": "markdown",
   "metadata": {},
   "source": [
    "- La asimetría se produce cuando la distribución de los datos se aleja de la media. Puede ser positiva o negativa. "
   ]
  },
  {
   "attachments": {},
   "cell_type": "markdown",
   "metadata": {},
   "source": [
    "### ¿Es vuestra variable respuesta asimétrica?"
   ]
  },
  {
   "cell_type": "code",
   "execution_count": 3,
   "metadata": {},
   "outputs": [
    {
     "data": {
      "text/plain": [
       "1.055870460824596"
      ]
     },
     "execution_count": 3,
     "metadata": {},
     "output_type": "execute_result"
    }
   ],
   "source": [
    "sales[\"profit\"].skew()"
   ]
  },
  {
   "attachments": {},
   "cell_type": "markdown",
   "metadata": {},
   "source": [
    "- En este caso, vemos que nuestra variable respuesta tiene una distribución asimétrica positiva, es decir, mayor que 0 y, por lo tanto, los datos no son normales. Su media es mayor que la mediana y la moda."
   ]
  },
  {
   "attachments": {},
   "cell_type": "markdown",
   "metadata": {},
   "source": [
    "### ¿Qué tipo de curtosis presenta vuestra variable respuesta?"
   ]
  },
  {
   "cell_type": "code",
   "execution_count": 4,
   "metadata": {},
   "outputs": [
    {
     "data": {
      "text/plain": [
       "KurtosistestResult(statistic=8.589216828780973, pvalue=8.756413236225312e-18)"
      ]
     },
     "execution_count": 4,
     "metadata": {},
     "output_type": "execute_result"
    }
   ],
   "source": [
    "kurtosistest(sales[\"profit\"])"
   ]
  },
  {
   "attachments": {},
   "cell_type": "markdown",
   "metadata": {},
   "source": [
    "- Vemos que nuestro p-valor es menor que 0.05, lo que nos indica este test es que los datos no son normales y podemos rechazar la H0."
   ]
  },
  {
   "attachments": {},
   "cell_type": "markdown",
   "metadata": {},
   "source": [
    "### ¿Es vuestra variable respuesta normal? Demostrarlo visual y analíticamente."
   ]
  },
  {
   "cell_type": "code",
   "execution_count": 5,
   "metadata": {},
   "outputs": [
    {
     "data": {
      "text/plain": [
       "ShapiroResult(statistic=0.9109621644020081, pvalue=1.8216880036222622e-44)"
      ]
     },
     "execution_count": 5,
     "metadata": {},
     "output_type": "execute_result"
    }
   ],
   "source": [
    "# probamos el test Shapiro para ver si nuestra variable respuesta es normal\n",
    "\n",
    "stats.shapiro(sales[\"profit\"])"
   ]
  },
  {
   "cell_type": "code",
   "execution_count": 6,
   "metadata": {},
   "outputs": [
    {
     "data": {
      "image/png": "[encoded data removed]",
      "text/plain": [
       "<Figure size 500x500 with 1 Axes>"
      ]
     },
     "metadata": {},
     "output_type": "display_data"
    }
   ],
   "source": [
    "sns.displot(sales[\"profit\"], kde = True, color = \"blue\");"
   ]
  },
  {
   "attachments": {},
   "cell_type": "markdown",
   "metadata": {},
   "source": [
    "- Como observamos con el test Shapiro y el displot, nuestra variable respuesta no tiene una distribución normal y es asimétrica, ya que su forma se aleja a la forma de una campana de Gauss."
   ]
  },
  {
   "cell_type": "code",
   "execution_count": 7,
   "metadata": {},
   "outputs": [
    {
     "data": {
      "image/png": "[encoded data removed]",
      "text/plain": [
       "<Figure size 1000x800 with 1 Axes>"
      ]
     },
     "metadata": {},
     "output_type": "display_data"
    }
   ],
   "source": [
    "sm.qqplot(sales[\"profit\"], line ='45');"
   ]
  },
  {
   "attachments": {},
   "cell_type": "markdown",
   "metadata": {},
   "source": [
    "- Como observamos en el qqplot, nuestra variable no está nada ajustada a la recta, lo cual nos indica una distribución no normal."
   ]
  }
 ],
 "metadata": {
  "kernelspec": {
   "display_name": "Python 3",
   "language": "python",
   "name": "python3"
  },
  "language_info": {
   "codemirror_mode": {
    "name": "ipython",
    "version": 3
   },
   "file_extension": ".py",
   "mimetype": "text/x-python",
   "name": "python",
   "nbconvert_exporter": "python",
   "pygments_lexer": "ipython3",
   "version": "3.10.9"
  },
  "orig_nbformat": 4,
  "vscode": {
   "interpreter": {
    "hash": "74ce4e106c5f3fb5408a2b59926dbdd162e96cafe5f5c54fb66c999b373c7a81"
   }
  }
 },
 "nbformat": 4,
 "nbformat_minor": 2
}
