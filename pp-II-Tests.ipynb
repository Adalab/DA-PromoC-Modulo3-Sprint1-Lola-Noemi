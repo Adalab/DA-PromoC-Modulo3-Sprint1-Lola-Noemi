{
 "cells": [
  {
   "attachments": {},
   "cell_type": "markdown",
   "metadata": {},
   "source": [
    "# Pair Programming Test Estadísticos"
   ]
  },
  {
   "cell_type": "code",
   "execution_count": 1,
   "metadata": {},
   "outputs": [
    {
     "name": "stderr",
     "output_type": "stream",
     "text": [
      "/home/lolaru/anaconda3/lib/python3.9/site-packages/statsmodels/tsa/base/tsa_model.py:7: FutureWarning: pandas.Int64Index is deprecated and will be removed from pandas in a future version. Use pandas.Index with the appropriate dtype instead.\n",
      "  from pandas import (to_datetime, Int64Index, DatetimeIndex, Period,\n",
      "/home/lolaru/anaconda3/lib/python3.9/site-packages/statsmodels/tsa/base/tsa_model.py:7: FutureWarning: pandas.Float64Index is deprecated and will be removed from pandas in a future version. Use pandas.Index with the appropriate dtype instead.\n",
      "  from pandas import (to_datetime, Int64Index, DatetimeIndex, Period,\n"
     ]
    }
   ],
   "source": [
    "import numpy as np\n",
    "import pandas as pd\n",
    "import matplotlib.pyplot as plt\n",
    "import seaborn as sns\n",
    "import statsmodels.api as sm\n",
    "from scipy.stats import skew\n",
    "from scipy.stats import kurtosistest\n",
    "from scipy import stats\n",
    "import warnings \n",
    "warnings.filterwarnings('ignore')\n",
    "plt.rcParams[\"figure.figsize\"] = (10,8) "
   ]
  },
  {
   "attachments": {},
   "cell_type": "markdown",
   "metadata": {},
   "source": [
    "En este ejercicio de pair programming seguiréis usando el dataset que seleccionasteis ayer.\n",
    "\n",
    "Happy coding💪🏽"
   ]
  },
  {
   "cell_type": "code",
   "execution_count": 2,
   "metadata": {},
   "outputs": [
    {
     "data": {
      "text/html": [
       "<div>\n",
       "<style scoped>\n",
       "    .dataframe tbody tr th:only-of-type {\n",
       "        vertical-align: middle;\n",
       "    }\n",
       "\n",
       "    .dataframe tbody tr th {\n",
       "        vertical-align: top;\n",
       "    }\n",
       "\n",
       "    .dataframe thead th {\n",
       "        text-align: right;\n",
       "    }\n",
       "</style>\n",
       "<table border=\"1\" class=\"dataframe\">\n",
       "  <thead>\n",
       "    <tr style=\"text-align: right;\">\n",
       "      <th></th>\n",
       "      <th>area_code</th>\n",
       "      <th>state</th>\n",
       "      <th>market</th>\n",
       "      <th>market_size</th>\n",
       "      <th>profit</th>\n",
       "      <th>margin</th>\n",
       "      <th>sales</th>\n",
       "      <th>cogs</th>\n",
       "      <th>total_expenses</th>\n",
       "      <th>marketing</th>\n",
       "      <th>...</th>\n",
       "      <th>budget_cogs</th>\n",
       "      <th>budget_margin</th>\n",
       "      <th>budget_sales</th>\n",
       "      <th>productid</th>\n",
       "      <th>date</th>\n",
       "      <th>product_type</th>\n",
       "      <th>product</th>\n",
       "      <th>type</th>\n",
       "      <th>mes</th>\n",
       "      <th>año</th>\n",
       "    </tr>\n",
       "  </thead>\n",
       "  <tbody>\n",
       "    <tr>\n",
       "      <th>3556</th>\n",
       "      <td>816</td>\n",
       "      <td>Missouri</td>\n",
       "      <td>Central</td>\n",
       "      <td>Small Market</td>\n",
       "      <td>50.0</td>\n",
       "      <td>74.0</td>\n",
       "      <td>145.0</td>\n",
       "      <td>62.0</td>\n",
       "      <td>40.0</td>\n",
       "      <td>19.0</td>\n",
       "      <td>...</td>\n",
       "      <td>60.0</td>\n",
       "      <td>80.0</td>\n",
       "      <td>140.0</td>\n",
       "      <td>3</td>\n",
       "      <td>2011-09-01</td>\n",
       "      <td>Coffee</td>\n",
       "      <td>Decaf Irish Cream</td>\n",
       "      <td>Decaf</td>\n",
       "      <td>9</td>\n",
       "      <td>2011</td>\n",
       "    </tr>\n",
       "    <tr>\n",
       "      <th>1314</th>\n",
       "      <td>435</td>\n",
       "      <td>Utah</td>\n",
       "      <td>West</td>\n",
       "      <td>Small Market</td>\n",
       "      <td>-16.0</td>\n",
       "      <td>53.0</td>\n",
       "      <td>101.0</td>\n",
       "      <td>37.0</td>\n",
       "      <td>66.0</td>\n",
       "      <td>34.0</td>\n",
       "      <td>...</td>\n",
       "      <td>20.0</td>\n",
       "      <td>40.0</td>\n",
       "      <td>60.0</td>\n",
       "      <td>11</td>\n",
       "      <td>2011-01-01</td>\n",
       "      <td>Tea</td>\n",
       "      <td>Darjeeling</td>\n",
       "      <td>Regular</td>\n",
       "      <td>1</td>\n",
       "      <td>2011</td>\n",
       "    </tr>\n",
       "    <tr>\n",
       "      <th>4199</th>\n",
       "      <td>978</td>\n",
       "      <td>Massachusetts</td>\n",
       "      <td>East</td>\n",
       "      <td>Major Market</td>\n",
       "      <td>40.0</td>\n",
       "      <td>76.0</td>\n",
       "      <td>138.0</td>\n",
       "      <td>52.0</td>\n",
       "      <td>46.0</td>\n",
       "      <td>17.0</td>\n",
       "      <td>...</td>\n",
       "      <td>40.0</td>\n",
       "      <td>70.0</td>\n",
       "      <td>130.0</td>\n",
       "      <td>2</td>\n",
       "      <td>2011-07-01</td>\n",
       "      <td>Coffee</td>\n",
       "      <td>Columbian</td>\n",
       "      <td>Regular</td>\n",
       "      <td>7</td>\n",
       "      <td>2011</td>\n",
       "    </tr>\n",
       "    <tr>\n",
       "      <th>3617</th>\n",
       "      <td>845</td>\n",
       "      <td>New York</td>\n",
       "      <td>East</td>\n",
       "      <td>Major Market</td>\n",
       "      <td>40.0</td>\n",
       "      <td>-56.0</td>\n",
       "      <td>69.0</td>\n",
       "      <td>125.0</td>\n",
       "      <td>46.0</td>\n",
       "      <td>22.0</td>\n",
       "      <td>...</td>\n",
       "      <td>110.0</td>\n",
       "      <td>-60.0</td>\n",
       "      <td>50.0</td>\n",
       "      <td>5</td>\n",
       "      <td>2010-10-01</td>\n",
       "      <td>Espresso</td>\n",
       "      <td>Caffe Mocha</td>\n",
       "      <td>Regular</td>\n",
       "      <td>10</td>\n",
       "      <td>2010</td>\n",
       "    </tr>\n",
       "    <tr>\n",
       "      <th>3783</th>\n",
       "      <td>914</td>\n",
       "      <td>New York</td>\n",
       "      <td>East</td>\n",
       "      <td>Major Market</td>\n",
       "      <td>40.0</td>\n",
       "      <td>76.0</td>\n",
       "      <td>138.0</td>\n",
       "      <td>60.0</td>\n",
       "      <td>90.0</td>\n",
       "      <td>66.0</td>\n",
       "      <td>...</td>\n",
       "      <td>50.0</td>\n",
       "      <td>70.0</td>\n",
       "      <td>130.0</td>\n",
       "      <td>7</td>\n",
       "      <td>2011-04-01</td>\n",
       "      <td>Espresso</td>\n",
       "      <td>Regular Espresso</td>\n",
       "      <td>Regular</td>\n",
       "      <td>4</td>\n",
       "      <td>2011</td>\n",
       "    </tr>\n",
       "    <tr>\n",
       "      <th>2484</th>\n",
       "      <td>618</td>\n",
       "      <td>Illinois</td>\n",
       "      <td>Central</td>\n",
       "      <td>Major Market</td>\n",
       "      <td>197.0</td>\n",
       "      <td>179.0</td>\n",
       "      <td>322.0</td>\n",
       "      <td>123.0</td>\n",
       "      <td>46.0</td>\n",
       "      <td>34.0</td>\n",
       "      <td>...</td>\n",
       "      <td>110.0</td>\n",
       "      <td>170.0</td>\n",
       "      <td>280.0</td>\n",
       "      <td>8</td>\n",
       "      <td>2011-12-01</td>\n",
       "      <td>Herbal Tea</td>\n",
       "      <td>Chamomile</td>\n",
       "      <td>Decaf</td>\n",
       "      <td>12</td>\n",
       "      <td>2011</td>\n",
       "    </tr>\n",
       "    <tr>\n",
       "      <th>1456</th>\n",
       "      <td>503</td>\n",
       "      <td>Oregon</td>\n",
       "      <td>West</td>\n",
       "      <td>Small Market</td>\n",
       "      <td>28.0</td>\n",
       "      <td>63.0</td>\n",
       "      <td>109.0</td>\n",
       "      <td>47.0</td>\n",
       "      <td>40.0</td>\n",
       "      <td>15.0</td>\n",
       "      <td>...</td>\n",
       "      <td>40.0</td>\n",
       "      <td>60.0</td>\n",
       "      <td>100.0</td>\n",
       "      <td>5</td>\n",
       "      <td>2011-07-01</td>\n",
       "      <td>Espresso</td>\n",
       "      <td>Caffe Mocha</td>\n",
       "      <td>Regular</td>\n",
       "      <td>7</td>\n",
       "      <td>2011</td>\n",
       "    </tr>\n",
       "  </tbody>\n",
       "</table>\n",
       "<p>7 rows × 22 columns</p>\n",
       "</div>"
      ],
      "text/plain": [
       "      area_code          state   market   market_size  profit  margin  sales  \\\n",
       "3556        816       Missouri  Central  Small Market    50.0    74.0  145.0   \n",
       "1314        435           Utah     West  Small Market   -16.0    53.0  101.0   \n",
       "4199        978  Massachusetts     East  Major Market    40.0    76.0  138.0   \n",
       "3617        845       New York     East  Major Market    40.0   -56.0   69.0   \n",
       "3783        914       New York     East  Major Market    40.0    76.0  138.0   \n",
       "2484        618       Illinois  Central  Major Market   197.0   179.0  322.0   \n",
       "1456        503         Oregon     West  Small Market    28.0    63.0  109.0   \n",
       "\n",
       "       cogs  total_expenses  marketing  ...  budget_cogs  budget_margin  \\\n",
       "3556   62.0            40.0       19.0  ...         60.0           80.0   \n",
       "1314   37.0            66.0       34.0  ...         20.0           40.0   \n",
       "4199   52.0            46.0       17.0  ...         40.0           70.0   \n",
       "3617  125.0            46.0       22.0  ...        110.0          -60.0   \n",
       "3783   60.0            90.0       66.0  ...         50.0           70.0   \n",
       "2484  123.0            46.0       34.0  ...        110.0          170.0   \n",
       "1456   47.0            40.0       15.0  ...         40.0           60.0   \n",
       "\n",
       "      budget_sales  productid        date  product_type            product  \\\n",
       "3556         140.0          3  2011-09-01        Coffee  Decaf Irish Cream   \n",
       "1314          60.0         11  2011-01-01           Tea         Darjeeling   \n",
       "4199         130.0          2  2011-07-01        Coffee          Columbian   \n",
       "3617          50.0          5  2010-10-01      Espresso        Caffe Mocha   \n",
       "3783         130.0          7  2011-04-01      Espresso   Regular Espresso   \n",
       "2484         280.0          8  2011-12-01    Herbal Tea          Chamomile   \n",
       "1456         100.0          5  2011-07-01      Espresso        Caffe Mocha   \n",
       "\n",
       "         type mes   año  \n",
       "3556    Decaf   9  2011  \n",
       "1314  Regular   1  2011  \n",
       "4199  Regular   7  2011  \n",
       "3617  Regular  10  2010  \n",
       "3783  Regular   4  2011  \n",
       "2484    Decaf  12  2011  \n",
       "1456  Regular   7  2011  \n",
       "\n",
       "[7 rows x 22 columns]"
      ]
     },
     "execution_count": 2,
     "metadata": {},
     "output_type": "execute_result"
    }
   ],
   "source": [
    "sales = pd.read_csv(\"../DA-PromoC-Modulo3-Sprint1-Lola-Noemi/ficheros/sales2.csv\", index_col=0)\n",
    "sales.sample(7)"
   ]
  },
  {
   "attachments": {},
   "cell_type": "markdown",
   "metadata": {},
   "source": [
    "\n",
    "### ¿Qué diferencia existe el error de tipo I y el error de tipo II?"
   ]
  },
  {
   "attachments": {},
   "cell_type": "markdown",
   "metadata": {},
   "source": [
    "- H0: No aumenta el beneficio con el marketing ni las ventas.\n",
    "- H1: El beneficio aumenta con el marketing y las ventas.\n",
    "\n",
    "\n",
    "Error de Tipo I: Decimos que no aumenta, cuando sí aumenta.\n",
    "\n",
    "Error de Tipo II: Decimos que aumenta, cuando realmente no aumenta.\n",
    "\n",
    "El error de Tipo II es el que no nos interesa cometer, dado que nuestra empresa sufriría pérdidas."
   ]
  },
  {
   "attachments": {},
   "cell_type": "markdown",
   "metadata": {},
   "source": [
    "### ¿Qué es la asimetría?"
   ]
  },
  {
   "attachments": {},
   "cell_type": "markdown",
   "metadata": {},
   "source": [
    "- La asimetría se produce cuando la distribución de los datos se aleja de la media. Puede ser positiva o negativa. "
   ]
  },
  {
   "attachments": {},
   "cell_type": "markdown",
   "metadata": {},
   "source": [
    "### ¿Es vuestra variable respuesta asimétrica?"
   ]
  },
  {
   "cell_type": "code",
   "execution_count": 3,
   "metadata": {},
   "outputs": [
    {
     "data": {
      "text/plain": [
       "1.055870460824596"
      ]
     },
     "execution_count": 3,
     "metadata": {},
     "output_type": "execute_result"
    }
   ],
   "source": [
    "sales[\"profit\"].skew()"
   ]
  },
  {
   "attachments": {},
   "cell_type": "markdown",
   "metadata": {},
   "source": [
    "- En este caso, vemos que nuestra variable respuesta tiene una distribución asimétrica positiva, es decir, mayor que 0 y, por lo tanto, los datos no son normales. Su media es mayor que la mediana y la moda."
   ]
  },
  {
   "attachments": {},
   "cell_type": "markdown",
   "metadata": {},
   "source": [
    "### ¿Qué tipo de curtosis presenta vuestra variable respuesta?"
   ]
  },
  {
   "cell_type": "code",
   "execution_count": 4,
   "metadata": {},
   "outputs": [
    {
     "data": {
      "text/plain": [
       "KurtosistestResult(statistic=8.589216828780973, pvalue=8.756413236225312e-18)"
      ]
     },
     "execution_count": 4,
     "metadata": {},
     "output_type": "execute_result"
    }
   ],
   "source": [
    "kurtosistest(sales[\"profit\"])"
   ]
  },
  {
   "attachments": {},
   "cell_type": "markdown",
   "metadata": {},
   "source": [
    "- Vemos que nuestro p-valor es menor que 0.05, lo que nos indica este test es que los datos no son normales y podemos rechazar la H0."
   ]
  },
  {
   "attachments": {},
   "cell_type": "markdown",
   "metadata": {},
   "source": [
    "### ¿Es vuestra variable respuesta normal? Demostrarlo visual y analíticamente."
   ]
  },
  {
   "cell_type": "code",
   "execution_count": 5,
   "metadata": {},
   "outputs": [
    {
     "data": {
      "text/plain": [
       "ShapiroResult(statistic=0.9109626412391663, pvalue=1.8216880036222622e-44)"
      ]
     },
     "execution_count": 5,
     "metadata": {},
     "output_type": "execute_result"
    }
   ],
   "source": [
    "# probamos el test Shapiro para ver si nuestra variable respuesta es normal\n",
    "\n",
    "stats.shapiro(sales[\"profit\"])"
   ]
  },
  {
   "cell_type": "code",
   "execution_count": 6,
   "metadata": {},
   "outputs": [
    {
     "data": {
      "image/png": "[encoded data removed]",
      "text/plain": [
       "<Figure size 360x360 with 1 Axes>"
      ]
     },
     "metadata": {
      "needs_background": "light"
     },
     "output_type": "display_data"
    }
   ],
   "source": [
    "sns.displot(sales[\"profit\"], kde = True, color = \"blue\");"
   ]
  },
  {
   "attachments": {},
   "cell_type": "markdown",
   "metadata": {},
   "source": [
    "- Como observamos con el test Shapiro y el displot, nuestra variable respuesta no tiene una distribución normal y es asimétrica, ya que su forma se aleja a la forma de una campana de Gauss."
   ]
  },
  {
   "cell_type": "code",
   "execution_count": 7,
   "metadata": {},
   "outputs": [
    {
     "data": {
      "image/png": "[encoded data removed]",
      "text/plain": [
       "<Figure size 720x576 with 1 Axes>"
      ]
     },
     "metadata": {
      "needs_background": "light"
     },
     "output_type": "display_data"
    }
   ],
   "source": [
    "sm.qqplot(sales[\"profit\"], line ='45');"
   ]
  },
  {
   "attachments": {},
   "cell_type": "markdown",
   "metadata": {},
   "source": [
    "- Como observamos en el qqplot, nuestra variable no está nada ajustada a la recta, lo cual nos indica una distribución no normal."
   ]
  }
 ],
 "metadata": {
  "kernelspec": {
   "display_name": "base",
   "language": "python",
   "name": "python3"
  },
  "language_info": {
   "codemirror_mode": {
    "name": "ipython",
    "version": 3
   },
   "file_extension": ".py",
   "mimetype": "text/x-python",
   "name": "python",
   "nbconvert_exporter": "python",
   "pygments_lexer": "ipython3",
   "version": "3.9.7 (default, Sep 16 2021, 13:09:58) \n[GCC 7.5.0]"
  },
  "orig_nbformat": 4,
  "vscode": {
   "interpreter": {
    "hash": "4b1ecc98482ac3f78e7638a36d488665c227c7cb0420745d3c03f1c165a0d66a"
   }
  }
 },
 "nbformat": 4,
 "nbformat_minor": 2
}
